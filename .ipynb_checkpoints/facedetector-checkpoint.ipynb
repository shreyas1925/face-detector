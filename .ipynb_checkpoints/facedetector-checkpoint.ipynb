{
 "cells": [
  {
   "cell_type": "code",
   "execution_count": 5,
   "metadata": {},
   "outputs": [],
   "source": [
    "import cv2"
   ]
  },
  {
   "cell_type": "code",
   "execution_count": 6,
   "metadata": {},
   "outputs": [
    {
     "data": {
      "text/plain": [
       "['.ipynb_checkpoints',\n",
       " 'facedetector.ipynb',\n",
       " 'haarcascade_frontalface_default.xml',\n",
       " 'photo.jpg',\n",
       " 'third.ipynb']"
      ]
     },
     "execution_count": 6,
     "metadata": {},
     "output_type": "execute_result"
    }
   ],
   "source": [
    "import os\n",
    "os.listdir()"
   ]
  },
  {
   "cell_type": "code",
   "execution_count": 7,
   "metadata": {},
   "outputs": [],
   "source": [
    "face_cascade=cv2.CascadeClassifier(\"haarcascade_frontalface_default.xml\")"
   ]
  },
  {
   "cell_type": "code",
   "execution_count": 8,
   "metadata": {},
   "outputs": [
    {
     "name": "stdout",
     "output_type": "stream",
     "text": [
      "[[[ 70  74  79]\n",
      "  [ 71  75  80]\n",
      "  [ 70  75  78]\n",
      "  ...\n",
      "  [100 109 136]\n",
      "  [101 110 137]\n",
      "  [102 111 138]]\n",
      "\n",
      " [[ 70  74  79]\n",
      "  [ 71  75  80]\n",
      "  [ 70  75  78]\n",
      "  ...\n",
      "  [102 111 138]\n",
      "  [102 111 138]\n",
      "  [102 111 138]]\n",
      "\n",
      " [[ 71  75  80]\n",
      "  [ 71  75  80]\n",
      "  [ 70  74  79]\n",
      "  ...\n",
      "  [101 110 137]\n",
      "  [100 108 137]\n",
      "  [100 108 137]]\n",
      "\n",
      " ...\n",
      "\n",
      " [[255 255 255]\n",
      "  [255 255 255]\n",
      "  [255 255 255]\n",
      "  ...\n",
      "  [ 52  35  32]\n",
      "  [ 50  33  30]\n",
      "  [ 52  35  32]]\n",
      "\n",
      " [[255 255 255]\n",
      "  [255 255 255]\n",
      "  [255 255 255]\n",
      "  ...\n",
      "  [ 52  35  32]\n",
      "  [ 50  33  30]\n",
      "  [ 52  35  32]]\n",
      "\n",
      " [[255 255 255]\n",
      "  [255 255 255]\n",
      "  [255 255 255]\n",
      "  ...\n",
      "  [ 52  35  32]\n",
      "  [ 51  34  31]\n",
      "  [ 51  34  31]]]\n"
     ]
    }
   ],
   "source": [
    "img=cv2.imread(\"photo.jpg\")\n",
    "\n",
    "print(img)"
   ]
  },
  {
   "cell_type": "code",
   "execution_count": 9,
   "metadata": {},
   "outputs": [
    {
     "name": "stdout",
     "output_type": "stream",
     "text": [
      "[[183 103 341 341]]\n"
     ]
    }
   ],
   "source": [
    "gray_img=cv2.cvtColor(img,cv2.COLOR_BGR2GRAY)\n",
    "\n",
    "\n",
    "faces=face_cascade.detectMultiScale( gray_img,\n",
    "                                                               \n",
    "scaleFactor=1.7,\n",
    "minNeighbors=5)\n",
    "\n",
    "print(faces)\n",
    "\n",
    "\n",
    "for x,y,w,h in faces:\n",
    "    img=cv2.rectangle(img,(x,y),(x+w,y+h),(230,0,0),4)\n"
   ]
  },
  {
   "cell_type": "code",
   "execution_count": 10,
   "metadata": {},
   "outputs": [],
   "source": [
    "cv2.imshow(\"gray\",img)\n",
    "cv2.waitKey(0)\n",
    "cv2.destroyAllWindows()"
   ]
  },
  {
   "cell_type": "code",
   "execution_count": null,
   "metadata": {},
   "outputs": [],
   "source": []
  },
  {
   "cell_type": "code",
   "execution_count": null,
   "metadata": {},
   "outputs": [],
   "source": []
  }
 ],
 "metadata": {
  "kernelspec": {
   "display_name": "Python 3",
   "language": "python",
   "name": "python3"
  },
  "language_info": {
   "codemirror_mode": {
    "name": "ipython",
    "version": 3
   },
   "file_extension": ".py",
   "mimetype": "text/x-python",
   "name": "python",
   "nbconvert_exporter": "python",
   "pygments_lexer": "ipython3",
   "version": "3.7.4"
  }
 },
 "nbformat": 4,
 "nbformat_minor": 4
}
